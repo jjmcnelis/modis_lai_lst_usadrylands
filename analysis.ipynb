{
 "cells": [
  {
   "cell_type": "markdown",
   "metadata": {},
   "source": [
    "# Introduction\n",
    "\n",
    "This notebook documents data acquisition and processing for ***Washington-Allen et al. 2019 (in prep)***. Processed in **Python (3.6) environment** using common scientific data processing libraries. \n",
    "\n",
    "**Questions:** [jjmcnelis@outlook.com](mailto:jjmcnelis@outlook.com)\n",
    "\n",
    "## Environment\n",
    "\n",
    "**Windows 10 running Ubuntu 16.04 via Windows Subsystem for Linux** \n",
    "\n",
    "All consumer-grade (but high-end) hardware: \n",
    "* i7 8700K 6-cores (12t), \n",
    "* 32g memory, \n",
    "* Samsung EVO PCIe NVM-e 500G SSD. \n",
    "\n",
    "**Python 3.6 --- required packages**\n",
    "\n",
    "* `xarray` pandas-like toolkit for analytics on n-dimensional arrays http://xarray.pydata.org/en/stable/index.html \n",
    "* `dask` flexible library for parallel computing https://docs.dask.org/en/latest/ \n",
    "* `gdal,ogr,osr` only used to make a grid from the drylands mask. Use GDAL command-line tools if gdal for python isnt available. "
   ]
  },
  {
   "cell_type": "code",
   "execution_count": 1,
   "metadata": {},
   "outputs": [],
   "source": [
    "import os,json,math                        # general env use and reading json configs\n",
    "import xarray,pandas,numpy                 # <-- these do 99.9% of processing\n",
    "from osgeo import gdal, ogr, osr           # to grid shapefile mask and transform netcdf crs for plots\n",
    "\n",
    "import matplotlib.pyplot as plt            # plots\n",
    "from mpl_toolkits.basemap import Basemap\n",
    "\n",
    "from collections import OrderedDict        # text-escaped dictionarys in output scripts\n",
    "from dask.diagnostics import ProgressBar   # progress bar for long saves\n",
    "from pprint import pprint                  # pretty printing in the notebook\n",
    "\n",
    "shapefile = \"data/ai/ai-drylands-sinu.shp\"                            # path to drylands mask shapefile\n",
    "qc = json.load( open( \"qc.json\" , \"r\" ) )\n",
    "\n",
    "%matplotlib inline"
   ]
  },
  {
   "cell_type": "markdown",
   "metadata": {},
   "source": [
    "## Tools\n",
    "\n",
    "***Panoply***        https://www.giss.nasa.gov/tools/panoply/       \n",
    "\n",
    "Panoply is a popular viewer for NetCDF (and HDF, GRIB, etc) that takes advantage of the format's rich internal metadata. Plots 1- and 2-dimensional arrays with a lot of customization options.\n",
    "\n",
    "***GDAL/OGR***       https://gdal.org/          \n",
    "\n",
    "[gdal_rasterize](https://www.gdal.org/gdal_rasterize.html) `gdal_rasterize` to make the mask\n",
    "```\n",
    "gdal_rasterize \\\n",
    "-burn 1 \\\n",
    "-of \"GTiff\" \\\n",
    "-a_srs \"+proj=sinu +lon_0=0 +x_0=0 +y_0=0 +ellps=WGS84 +datum=WGS84 +units=m +no_defs\" \\\n",
    "-a_nodata 0 \\\n",
    "-te <xmin> <ymin> <xmax> <ymax> \\\n",
    "-tr <xres> <yres> \\\n",
    "-ot Byte \\\n",
    "in.shp out.<ext>\n",
    "```\n",
    "\n",
    "[ogr2ogr](https://www.gdal.org/ogr2ogr.html) use `ogr2ogr` to do the transformation:\n",
    "```\n",
    "# proj4 string for MODIS Sinusoidal:        \n",
    "# +proj=sinu +lon_0=0 +x_0=0 +y_0=0 +ellps=WGS84 +datum=WGS84 +units=m +no_defs\n",
    "\n",
    "ogr2ogr -a_srs \"+proj=sinu +lon_0=0 +x_0=0 +y_0=0 +ellps=WGS84 +datum=WGS84 +units=m +no_defs \" data/ai/ai-drylands-sinu.shp data/ai/ai-drylands.shp\n",
    "```\n",
    "\n",
    "## Datasets\n",
    "\n",
    "### Acquisition        \n",
    "Used [APPEEARS (LPDAAC)](https://lpdaac.usgs.gov/tools/data_access/appeears) to get the time series for the full history of MODIS Terra and Aqua for 8-day Leaf Area Index ([MOD15A2H](https://lpdaac.usgs.gov/dataset_discovery/modis/modis_products_table/mod15a2h_v006) and [MYD15A2H](https://lpdaac.usgs.gov/dataset_discovery/modis/modis_products_table/myd15a2h_v006)) and daily Land Surface Temperature ([MOD11A1](https://lpdaac.usgs.gov/dataset_discovery/modis/modis_products_table/mod11a1_v006) and [MYD11A1](https://lpdaac.usgs.gov/dataset_discovery/modis/modis_products_table/myd11a1_v006)) for daytime and nighttime. \n",
    "\n",
    "You can submit identical orders to APPEEARS using the JSON included in each products data folder, e.g for Terra and Aqua LAI ([`data/lai/US-LAI-TerraAqua-June-August-request.json`](data/lai/US-LAI-TerraAqua-June-August-request.json)):\n",
    "```\n",
    "{\n",
    "   \"error\":null,\n",
    "   \"params\":{\n",
    "      \"geo\":{\n",
    "         \"type\":\"FeatureCollection\",\n",
    "         \"features\":[{\"type\":\"Feature\",\n",
    "                      \"geometry\":{\"type\":\"Polygon\",\"coordinates\":[ <very long list of vertices for CONUS boundary> ]},\n",
    "                      \"properties\":{\"NAME\":\"United States\",\"GEOID\":\"US\",\"AFFGEOID\":\"0100000US\"}}],\n",
    "                      \"fileName\":\"CONUS\"},\n",
    "      \"dates\":[{\"endDate\":\"08-31\",\"recurring\":true,\"startDate\":\"06-01\",\"yearRange\":[2000,2022]}],\n",
    "      \"layers\":[\n",
    "         {\"layer\":\"Lai_500m\",\"product\":\"MOD15A2H.006\"},\n",
    "         {\"layer\":\"LaiStdDev_500m\",\"product\":\"MOD15A2H.006\"},\n",
    "         {\"layer\":\"FparLai_QC\",\"product\":\"MOD15A2H.006\"},\n",
    "         {\"layer\":\"FparLai_QC\",\"product\":\"MYD15A2H.006\"},\n",
    "         {\"layer\":\"LaiStdDev_500m\",\"product\":\"MYD15A2H.006\"},\n",
    "         {\"layer\":\"Lai_500m\",\"product\":\"MYD15A2H.006\"}],\n",
    "      \"output\":{\"format\":{\"type\":\"netcdf4\"},\"projection\":\"sinu_modis\"},\n",
    "      \"coordinates\":[]\n",
    "   },\n",
    "   \"status\":\"processing\",\n",
    "   \"created\":\"2018-12-01T02:08:33.690625\",\n",
    "   \"task_id\":\"8838208d-4c94-41d0-a67c-de35b8b08097\",\n",
    "   \"updated\":\"2018-12-01T02:08:33.750654\",\n",
    "   \"user_id\":\"jjmcnelis@outlook.com\",\n",
    "   \"retry_at\":null,\n",
    "   \"task_name\":\"US_LAI-TerraAqua_June-August\",\n",
    "   \"task_type\":\"area\",\n",
    "   \"api_version\":null,\n",
    "   \"svc_version\":\"2.13.1\",\n",
    "   \"web_version\":\"2.13.1\",\n",
    "   \"expires_on\":\"2018-12-31T02:08:33.750654\",\n",
    "   \"attempts\":1\n",
    "}\n",
    "```\n",
    "\n",
    "### Metadata    \n",
    "Used a JSON file [`datasets.json`](datasets.json) to store some metadata about each of the datasets. This file is consumed by the code at the bottom of the notebook ([**Write processing scripts**](#Scripts)) to write python scripts that do the analysis for each dataset.  "
   ]
  },
  {
   "cell_type": "code",
   "execution_count": 2,
   "metadata": {},
   "outputs": [
    {
     "name": "stdout",
     "output_type": "stream",
     "text": [
      "\n",
      "The JSON config for Terra LAI:\n",
      "\n",
      "{'datavar': 'Lai_500m',\n",
      " 'discard_vars': ['FparExtra_QC', 'LaiStdDev_500m'],\n",
      " 'file': 'data/MOD15A2H.006_500m_aid0001.nc',\n",
      " 'fillvalue': 255,\n",
      " 'long_name': 'MOD15A2H MODIS/Terra Gridded 500M Leaf Area Index LAI (8-day '\n",
      "              'composite)',\n",
      " 'lookup': 'data/lai/MOD15A2H-006-FparLai-QC-lookup.csv',\n",
      " 'output': 'outputs/mod15a2h_processed.nc',\n",
      " 'qcvar': 'FparLai_QC',\n",
      " 'valid_max': 100,\n",
      " 'valid_min': 0,\n",
      " 'var': 'lai'}\n"
     ]
    }
   ],
   "source": [
    "datasets = json.load( open( \"datasets.json\" , \"r\" ) )\n",
    "\n",
    "print(\"\\nThe JSON config for Terra LAI:\\n\")\n",
    "pprint(datasets['mod15a2h'])"
   ]
  },
  {
   "cell_type": "markdown",
   "metadata": {},
   "source": [
    "Get some details about the dataset dimensionality so `dask` can chunk the data and parallelize calculations:"
   ]
  },
  {
   "cell_type": "code",
   "execution_count": 3,
   "metadata": {},
   "outputs": [
    {
     "data": {
      "text/plain": [
       "<xarray.Dataset>\n",
       "Dimensions:     (time: 226, xdim: 12761, ydim: 5932)\n",
       "Coordinates:\n",
       "  * time        (time) object 2000-06-01 00:00:00 ... 2018-08-29 00:00:00\n",
       "  * ydim        (ydim) float64 5.491e+06 5.491e+06 ... 2.744e+06 2.744e+06\n",
       "  * xdim        (xdim) float64 -1.105e+07 -1.105e+07 ... -5.135e+06 -5.135e+06\n",
       "Data variables:\n",
       "    crs         int8 ...\n",
       "    FparLai_QC  (time, ydim, xdim) int16 dask.array<shape=(226, 5932, 12761), chunksize=(5, 1000, 1000)>\n",
       "    Lai_500m    (time, ydim, xdim) int16 dask.array<shape=(226, 5932, 12761), chunksize=(5, 1000, 1000)>\n",
       "Attributes:\n",
       "    title:        MOD15A2H.006 for aid0001\n",
       "    Conventions:  CF-1.6\n",
       "    institution:  Land Processes Distributed Active Archive Center (LP DAAC)\n",
       "    source:       AppEEARS v2.13\n",
       "    references:   See README.txt\n",
       "    history:      See README.txt"
      ]
     },
     "execution_count": 3,
     "metadata": {},
     "output_type": "execute_result"
    }
   ],
   "source": [
    "nc = xarray.open_dataset(\n",
    "    datasets['mod15a2h']['file'], \n",
    "    mask_and_scale = False,                                   # no. changes data to floats\n",
    "    drop_variables = [ 'FparExtra_QC' , 'LaiStdDev_500m' ],   # discard these\n",
    "    chunks = { 'time':5, 'ydim': 1000, 'xdim': 1000 }         # chunking\n",
    ")\n",
    "nc"
   ]
  },
  {
   "cell_type": "markdown",
   "metadata": {},
   "source": [
    "### Format\n",
    "\n",
    "***NetCDF*** https://www.unidata.ucar.edu/software/netcdf/       \n",
    "\n",
    "NetCDF is a self-describing, machine-independent data formats that support the creation, access, and sharing of array-oriented scientific data. Prefered format is [CF-1.6 Convention](http://cfconventions.org/), but these files aren't fully compliant. I recommend [**Panoply**](/link/to/panoply) to quickly browse grids and time series. \n",
    "\n",
    "* *Dimensions*\n",
    "\n",
    "Variable data are organized along *fixed* dimensions and *record*, or *unlimited*, dimensions (usually `time`). For example, in our MOD15A2H dataset:\n",
    "\n",
    "`time` is `226` records long; 8-day MODIS products (LAI) have 46 composite periods per year; June, July, August alone ~ `46 / 4 = ~ 11` timesteps per year, and roughly `226 / 11 = ~ 19` years of data.    \n",
    "\n",
    "`ydim` and `xdim` dimensions are of length `5932` and `12761`, respectively. MODIS pixels for LAI are roughly 463 meters tall, so `5932 * 463 = 2,746,516` meters, or 2,700 kilometers vertical coverage in the datasets. Very close to ~2500 km distance between southern tip of Texas and Canadian border. Can't check `xdim` because sinusoidal projection distorts horizontal drastically.\n",
    "\n",
    "* *Variables*\n",
    "\n",
    "Variables in the netCDF retain the names of their parent subdatasets in the MODIS HDF files stored at LP DAAC:\n",
    "https://lpdaac.usgs.gov/dataset_discovery/modis/modis_products_table/mod15a2h_v006\n",
    "\n",
    "We want `Lai_500m` and `FparLai_QC`. `crs` stores spatial reference information in netCDF format so *most* GIS software knows how to render the gridded data within the parameters defined in the *crs* variable. \n",
    "\n",
    "***plot of the first timestep:***"
   ]
  },
  {
   "cell_type": "code",
   "execution_count": 4,
   "metadata": {},
   "outputs": [
    {
     "data": {
      "text/plain": [
       "<matplotlib.image.AxesImage at 0x293548e5f60>"
      ]
     },
     "execution_count": 4,
     "metadata": {},
     "output_type": "execute_result"
    },
    {
     "data": {
      "image/png": "[encoded data removed]",
      "text/plain": [
       "<Figure size 432x288 with 2 Axes>"
      ]
     },
     "metadata": {
      "needs_background": "light"
     },
     "output_type": "display_data"
    }
   ],
   "source": [
    "tmp = nc['Lai_500m'].isel(time=0).load().astype('float') # get first lai timestep, convert to float\n",
    "numpy.place(tmp.data,tmp.data>100.,numpy.nan)\n",
    "\n",
    "tmp.plot.imshow()"
   ]
  },
  {
   "cell_type": "markdown",
   "metadata": {},
   "source": [
    "# Processing (example: MOD15A2H)\n",
    "\n",
    "### 1. Reduce `x` and `y` dimensions to minimum drylands extent and apply drylands mask\n",
    "\n",
    "We use the aridity index shapefile as the mask that represents drylands ecosystem coverage. Select only the features that represent dryland ecosystem conditions (I did this in ArcMap) and reproject the remaining features to the MODIS Sinusoidal coordinate system (I don't trust ArcMap).\n",
    "\n",
    "#### Reproject\n",
    "\n",
    "I used GDAL/OGR command line tool `ogr2ogr` to transform the aridity index shapefile (~drylands mask) from WGS84 to MODIS sinusoidal:\n",
    "\n",
    "[ogr2ogr](https://www.gdal.org/ogr2ogr.html) use `ogr2ogr` to do the transformation:\n",
    "```\n",
    "# proj4 string for MODIS Sinusoidal:        \n",
    "# +proj=sinu +lon_0=0 +x_0=0 +y_0=0 +ellps=WGS84 +datum=WGS84 +units=m +no_defs\n",
    "\n",
    "ogr2ogr -a_srs \"+proj=sinu +lon_0=0 +x_0=0 +y_0=0 +ellps=WGS84 +datum=WGS84 +units=m +no_defs \" data/ai/ai-drylands-sinu.shp data/ai/ai-drylands.shp\n",
    "```\n",
    "\n",
    "Open the reprojected shapefile for later use and print the WKT:"
   ]
  },
  {
   "cell_type": "code",
   "execution_count": 5,
   "metadata": {},
   "outputs": [
    {
     "data": {
      "text/plain": [
       "'PROJCS[\"Sinusoidal\",GEOGCS[\"GCS_WGS_1984\",DATUM[\"WGS_1984\",SPHEROID[\"WGS_84\",6378137.0,298.257223563]],PRIMEM[\"Greenwich\",0.0],UNIT[\"Degree\",0.0174532925199433],AUTHORITY[\"EPSG\",\"4326\"]],PROJECTION[\"Sinusoidal\"],PARAMETER[\"false_easting\",0.0],PARAMETER[\"false_northing\",0.0],PARAMETER[\"longitude_of_center\",0.0],UNIT[\"Meter\",1.0]]'"
      ]
     },
     "execution_count": 5,
     "metadata": {},
     "output_type": "execute_result"
    }
   ],
   "source": [
    "shp = ogr.Open(shapefile)    # open shapefile\n",
    "lyr = shp.GetLayer()         # get first (and only) layer\n",
    "srs = lyr.GetSpatialRef()    # get srs\n",
    "srs.ExportToWkt()            # print the WKT"
   ]
  },
  {
   "cell_type": "markdown",
   "metadata": {},
   "source": [
    "#### Rasterize drylands mask to each MODIS product grid\n",
    "\n",
    "Now that the drylands mask is in the same SRS as our MODIS datasets, we can convert the mask to a grid.\n",
    "\n",
    "We'll get some spatial reference information from each dataset and use the python binding for the `gdal_rasterize` command-line tool to generate binary drylands masks (one per dataset).       \n",
    "\n",
    "`gdal.RasterizeLayer()` to make a mask matching  grid in the MOD15A2H dataset and get min extent encompassing the mask.\n",
    "\n",
    "* get dimensions and min bounding coordinates of xy dimensions in input netCDF [ `xarray` ]\n",
    "* calculate cell size and define geotransformation\n",
    "* return the rasterized dryland mask as a grid matching the input netCDF"
   ]
  },
  {
   "cell_type": "code",
   "execution_count": 6,
   "metadata": {},
   "outputs": [],
   "source": [
    "ncols,nrows = nc.xdim.size,nc.ydim.size    # get number of cols and rows\n",
    "ymax,ymin = max(nc.ydim),min(nc.ydim)      # get max and min for y\n",
    "xmax,xmin = max(nc.xdim),min(nc.xdim)      # get max and min for x\n",
    "yres=(ymax-ymin)/float(nrows)              # get y res\n",
    "xres=(xmax-xmin)/float(ncols)              # get x res\n",
    "geotransform=(xmin,xres,0,ymax,0, -yres)   # define geotransformation\n",
    "\n",
    "dst_ds = gdal.GetDriverByName('MEM').Create('', ncols, nrows, 1 ,gdal.GDT_Byte)   # open raster obj in memory\n",
    "dst_rb = dst_ds.GetRasterBand(1)\n",
    "dst_rb.Fill(0)                             # init with zeros\n",
    "dst_rb.SetNoDataValue(0)                   # set nodata value\n",
    "dst_ds.SetGeoTransform(geotransform)       # set geotransform\n",
    "\n",
    "err = gdal.RasterizeLayer(dst_ds, [1], lyr, burn_values=[1])   # rasterize shp. drylands == 1 ; not drylands == 0\n",
    "dst_ds.FlushCache()\n",
    "\n",
    "m = dst_ds.GetRasterBand(1).ReadAsArray()  # get mask as a numpy array"
   ]
  },
  {
   "cell_type": "markdown",
   "metadata": {},
   "source": [
    "Add the mask array to the input dataset as a new variable using the `xarray.DataArray` method:"
   ]
  },
  {
   "cell_type": "code",
   "execution_count": 7,
   "metadata": {},
   "outputs": [
    {
     "data": {
      "text/plain": [
       "<xarray.Dataset>\n",
       "Dimensions:     (time: 226, xdim: 12761, ydim: 5932)\n",
       "Coordinates:\n",
       "  * time        (time) object 2000-06-01 00:00:00 ... 2018-08-29 00:00:00\n",
       "  * ydim        (ydim) float64 5.491e+06 5.491e+06 ... 2.744e+06 2.744e+06\n",
       "  * xdim        (xdim) float64 -1.105e+07 -1.105e+07 ... -5.135e+06 -5.135e+06\n",
       "Data variables:\n",
       "    crs         int8 ...\n",
       "    FparLai_QC  (time, ydim, xdim) int16 dask.array<shape=(226, 5932, 12761), chunksize=(5, 1000, 1000)>\n",
       "    Lai_500m    (time, ydim, xdim) int16 dask.array<shape=(226, 5932, 12761), chunksize=(5, 1000, 1000)>\n",
       "    drylands    (ydim, xdim) uint8 0 0 0 0 0 0 0 0 0 0 0 ... 0 0 0 0 0 0 0 0 0 0\n",
       "Attributes:\n",
       "    title:        MOD15A2H.006 for aid0001\n",
       "    Conventions:  CF-1.6\n",
       "    institution:  Land Processes Distributed Active Archive Center (LP DAAC)\n",
       "    source:       AppEEARS v2.13\n",
       "    references:   See README.txt\n",
       "    history:      See README.txt"
      ]
     },
     "execution_count": 7,
     "metadata": {},
     "output_type": "execute_result"
    }
   ],
   "source": [
    "# add the mask to the input dataset as a new variable called 'drylands'\n",
    "nc['drylands'] = xarray.DataArray( m , coords = [ nc.ydim , nc.xdim ] , dims = [ 'ydim' , 'xdim' ] )\n",
    "nc.drylands.attrs = {                           # add some attributes to describe the new mask variable\n",
    "    'grid_mapping':'crs',                           # \"grid_mapping\" (CF standard) instruct software how to grid data\n",
    "    'flag_values':(0,1),                            # \"flag_values\" sometimes interpretable by software\n",
    "    'flag_meanings':'non_drylands drylands',        # same is true for \"flag_meanings\" \n",
    "    '_FillValue':0                                  # and most software hide \"_FillValues\" by default\n",
    "}\n",
    "nc"
   ]
  },
  {
   "cell_type": "markdown",
   "metadata": {},
   "source": [
    "Get minimum bounding extent of the mask layer (in grid coordinates) and remove outer columns and rows that are entirely nodata. Then apply the mask:"
   ]
  },
  {
   "cell_type": "code",
   "execution_count": 8,
   "metadata": {},
   "outputs": [
    {
     "name": "stdout",
     "output_type": "stream",
     "text": [
      "Before trimming: (12761 , 5932)\n",
      "Minimum drylands bounding extent in grid units:\n",
      "\t[ min_row, max_row, min_col, max_col ] \n",
      "\t[92, 5647, 0, 8006]\n",
      "After trimming: (8006 , 5555)\n"
     ]
    },
    {
     "data": {
      "text/plain": [
       "<xarray.DataArray 'Lai_500m' (time: 226, ydim: 5555, xdim: 8006)>\n",
       "dask.array<shape=(226, 5555, 8006), dtype=int16, chunksize=(5, 908, 1000)>\n",
       "Coordinates:\n",
       "  * time     (time) object 2000-06-01 00:00:00 ... 2018-08-29 00:00:00\n",
       "  * ydim     (ydim) float64 5.449e+06 5.448e+06 ... 2.876e+06 2.876e+06\n",
       "  * xdim     (xdim) float64 -1.105e+07 -1.105e+07 ... -7.338e+06 -7.338e+06\n",
       "Attributes:\n",
       "    _FillValue:             255\n",
       "    grid_mapping:           crs\n",
       "    valid_min:              0\n",
       "    valid_max:              100\n",
       "    scale_factor_err:       0.0\n",
       "    add_offset_err:         0.0\n",
       "    calibrated_nt:          21\n",
       "    long_name:              MOD15A2H MODIS/Terra Gridded 500M Leaf Area Index...\n",
       "    units:                  m^2/m^2\n",
       "    MOD15A2_FILLVALUE_DOC:  MOD15A2 FILL VALUE LEGEND\\n255 = _Fillvalue, assi...\n",
       "    scale_factor:           0.1\n",
       "    add_offset:             0.0"
      ]
     },
     "execution_count": 8,
     "metadata": {},
     "output_type": "execute_result"
    }
   ],
   "source": [
    "### get minimum bounding extent of the mask\n",
    "nzero_ix = numpy.argwhere(m)                    # get index of every non-zero point\n",
    "tl = nzero_ix.min(axis=0).tolist()              # get min of indices for both dims\n",
    "br = nzero_ix.max(axis=0).tolist()              # get max of indices for both dims\n",
    "ext = [v for v in [tl[0],br[0],tl[1],br[1]]]    # _ymax _ymin _xmax _xmin\n",
    "\n",
    "### print some details about the mask\n",
    "print(\"Before trimming: (\" + str(nc.xdim.size) + \" , \" + str(nc.ydim.size) + \")\")\n",
    "print(\"Minimum drylands bounding extent in grid units:\\n\\t[ min_row, max_row, min_col, max_col ] \\n\\t\"+str(ext))\n",
    "nc = nc[ dict(ydim=slice(ext[0],ext[1]), xdim=slice(ext[2],ext[3])) ]\n",
    "print(\"After trimming: (\" + str(nc.xdim.size) + \" , \" + str(nc.ydim.size) + \")\")\n",
    "nonzero_ix, tl, br, m = None, None, None, None # discard objects\n",
    "\n",
    "### mask the Lai_500m variable using the drylands mask\n",
    "nc['Lai_500m'] = nc['Lai_500m'].where( nc.drylands == 1 , 255 )\n",
    "nc['Lai_500m']"
   ]
  },
  {
   "cell_type": "markdown",
   "metadata": {},
   "source": [
    "-----------\n",
    "### 2. Remove poor quality observations\n",
    "\n",
    "#### Prepare quality filtering criteria\n",
    "\n",
    "The criteria that were used to determine the mask are stored in `qc.json` in the base directory of the repo. *Those listed in the file represent pixels that were retained.*"
   ]
  },
  {
   "cell_type": "code",
   "execution_count": 9,
   "metadata": {},
   "outputs": [
    {
     "name": "stdout",
     "output_type": "stream",
     "text": [
      "qc.json (base directory) stores criteria that indicate a valid pixel:\n",
      "{'MODLAND': ['Good quality (main algorithm with or without saturation)'],\n",
      " 'SCF_QC': ['Main (RT) method used, best result possible (no saturation)',\n",
      "            'Main (RT) method used with saturation. Good, very usable']}\n",
      "\n",
      "Pixels with these values in the quality layer will be filtered: [0, 8, 16, 32, 40, 48]\n"
     ]
    }
   ],
   "source": [
    "### open lookup table for mod15a2h and select mod15a2h filtering criteria from qc.json\n",
    "lookup = pandas.read_csv(datasets['mod15a2h']['lookup'])\n",
    "criteria = qc[datasets['mod15a2h']['var']]\n",
    "\n",
    "print(\"qc.json (base directory) stores criteria that indicate a valid pixel:\")\n",
    "pprint(criteria)\n",
    "\n",
    "### get quality layer values that represent bad quality from qc.json \n",
    "qcv = lookup.loc[(( \n",
    "    lookup[ list(criteria.keys())[0] ].isin( list(criteria.values())[0] ) & \n",
    "    lookup[ list(criteria.keys())[1] ].isin( list(criteria.values())[1] )\n",
    ")), \"Value\"].tolist()\n",
    "\n",
    "print(\"\\nPixels with these values in the quality layer will be filtered: \"+str(qcv))\n",
    "criteria = None # discard objects"
   ]
  },
  {
   "cell_type": "markdown",
   "metadata": {},
   "source": [
    "#### Apply mask from `FparLai_QC` to `Lai_500m` using rules specified in `qcv`\n",
    "\n",
    "We can drop the quality layer from the dataset after the filtering and save some disk space."
   ]
  },
  {
   "cell_type": "code",
   "execution_count": 10,
   "metadata": {},
   "outputs": [],
   "source": [
    "nc['Lai_500m'] = nc['Lai_500m'].where( nc['FparLai_QC'].isin(qcv) , 255 ) # apply filter\n",
    "nc = nc.drop('FparLai_QC')                                                # drop quality layer"
   ]
  },
  {
   "cell_type": "markdown",
   "metadata": {},
   "source": [
    "#### Checks\n",
    "\n",
    "We can check that the filtering was done properly by checking a point sample against a time series from the [MODIS/VIIRS Web Service maintained by the ORNL DAAC](https://modis.ornl.gov/data/modis_webservice.html).\n",
    "\n",
    "We can use the `pyproj` package to convert sample sinusoidal coordinates to geographic coordinates. Then, pass the test points to the web service like so:\n",
    "```\n",
    "from pyproj import transform,Proj\n",
    "from requests import get\n",
    "from json import loads\n",
    "\n",
    "# make pyproj objects for wgs84 [epsg code] and modis sinusoidal [proj4]\n",
    "wgs84 = Proj(\"+proj=longlat +datum=WGS84 +no_defs\")\n",
    "sinu = Proj('+proj=sinu +lon_0=0 +x_0=0 +y_0=0 +ellps=WGS84 +datum=WGS84 +units=m +no_defs')\n",
    "\n",
    "# pick x,y pair near grid center because lots of nodata\n",
    "_gridx,_gridy = int((ext[3]-ext[2])/2) , int((ext[1]-ext[0])/2) # average of dim bounds\n",
    "_x,_y = nc.xdim.data[_gridx] , nc.ydim.data[_gridy] # get sinu x,y at those positions\n",
    "\n",
    "print(\"sinusoidal x,y pair: \" + str([_x,_y]))\n",
    "\n",
    "# transform sample x,y pair(s)\n",
    "_lng,_lat = transform( sinu , wgs84 , _x , _y )\n",
    "\n",
    "print(\"geographic lng,lat pair: \" + str([_lng,_lat]))\n",
    "\n",
    "# build the request string to submit to the MODIS/VIIRS Web Service [REST-based API]\n",
    "response = get(\n",
    "    str(\n",
    "        'https://modis.ornl.gov/rst/api/v1/' + 'MOD15A2H/subset?' + # api + <product>/subet?\n",
    "        'latitude=' + str(_lat) + '&longitude=' + str(_lng) + # <latitude> <longitude\n",
    "        '&band=Lai_500m' + # \"&band=<band>\"\n",
    "        '&startDate=' + 'A2000153' + '&endDate=' + 'A2000213' + # Jun,Jul 2000; <startdoy> <enddoy>\n",
    "        '&kmAboveBelow=0&kmLeftRight=0'\n",
    "     ,\n",
    "    headers = {'Accept': 'application/json'}\n",
    ")\n",
    "\n",
    "sample = loads(response.text)\n",
    "```\n",
    "\n",
    "The web service is a really great tool for access MODIS and VIIRS data programmatically. A ton of useful metadata is stored in the response (json -> python dictionary), but it's too big to pretty-print inside the jupyter notebook. Here's everything but the subset element (data are printed though) if you'd like to explore later:\n",
    "```\n",
    "subset = [s['data'][0] for s in sample['subset']]\n",
    "print(\"Subset metadata: \\n\\n\" + \"\\n\".join([\"\\t\"+k+\"\\t\"+str(v) for k,v in sample.items() if k != 'subset' ]))\n",
    "subset = None # discard objects\n",
    "```\n",
    "\n",
    "The subset we requested from ORNL DAAC is the first two months of our time series, so we can extract the same values from our time series using the grid positions we calculated above and the first ~8 values of our time series.\n",
    "```\n",
    "check = nc['Lai_500m'][0:len(subset),_gridy,_gridx].load()\n",
    "print(\"Our time series: \" + str( check ))\n",
    "print(\"ORNL DAAC time series: \" + str( subset ))\n",
    "```"
   ]
  },
  {
   "cell_type": "markdown",
   "metadata": {},
   "source": [
    "----------\n",
    "### 4. Save time series\n",
    "\n",
    "Now that all of the filtering is complete we just need to save the file and calculate statistics. The computer hasn't actually done any of the work yet. `xarray` uses `dask` to queue a list of operations to perform on the data and then executes them chunk-wise as it writes to the output file.\n",
    "\n",
    "Before calculating statistics, save the time series:"
   ]
  },
  {
   "cell_type": "code",
   "execution_count": 11,
   "metadata": {},
   "outputs": [
    {
     "name": "stdout",
     "output_type": "stream",
     "text": [
      "[########################################] | 100% Completed | 19min 24.0s\n"
     ]
    }
   ],
   "source": [
    "from dask.diagnostics import ProgressBar # load dask's progress bar\n",
    "\n",
    "output = \"outputs/mod15a2h_processed.nc\"                                 # output netcdf\n",
    "timeseries = nc.to_netcdf(output, unlimited_dims=\"time\" , compute=False) # initialize output job\n",
    "\n",
    "with ProgressBar():       # do queued calculations and save\n",
    "    timeseries.compute()\n",
    "timeseries = None         # discard objects"
   ]
  },
  {
   "cell_type": "markdown",
   "metadata": {},
   "source": [
    "or save one file per year:\n",
    " ```\n",
    "slices = {str(y): nc.sel(time=slice(str(y),str(y))) for y in list(set(nc.time.dt.year.data)) }\n",
    "for year,dataset in slices.items(): \n",
    "    j = dataset.to_netcdf(p+\"mod15a2h_\"+year+\"_timeseries.nc\", unlimited_dims=(\"time\"), compute=False)\n",
    "    with ProgressBar(): \n",
    "        j.compute()\n",
    "```"
   ]
  },
  {
   "cell_type": "markdown",
   "metadata": {},
   "source": [
    "----------------\n",
    "### 5. Calculate stats\n",
    "\n",
    "Now calculate mean and standard deviation by month. Purge the opened netCDF and open the one that was just saved, applying the mask and scale factor (warning: changes data type to float):"
   ]
  },
  {
   "cell_type": "code",
   "execution_count": 12,
   "metadata": {},
   "outputs": [],
   "source": [
    "nc = None                                   # purge opened netcdf\n",
    "\n",
    "d = datasets['mod15a2h']                    # get the dictionary for MOD15A2H\n",
    "d.update({'dataset':'mod15a2h'})            # add dataset string\n",
    "output = \"outputs/mod15a2h_test_stats.nc\"   # output path\n",
    "\n",
    "_dataset = d['dataset'] #'{dataset}'        # This is the info that comes from datasets.json -->\n",
    "_file = d['output'] #'{output}'             #      {bracketed} comments are for reference to the       \n",
    "_datavar = d['datavar'] #'{datavar}'        #      script generator at the bottom of the notebook\n",
    "_long_name = d['long_name'] #'{valid_max}'  #\n",
    "_valid_min = d['valid_min'] #'{valid_min}'  #\n",
    "_valid_max = d['valid_max'] #'{valid_max}'  #\n",
    "\n",
    "_mean = _datavar+\"_mean\"                    # for renaming \"Lai_500m\" to \"Lai_500m_mean\"\n",
    "_variance = _datavar+\"_variance\"            # ... variance\n",
    "_stdev = _datavar+\"_stdev\"                  # ... stdev"
   ]
  },
  {
   "cell_type": "markdown",
   "metadata": {},
   "source": [
    "**Note:** Calculated standard deviation as ...\n",
    "* the **square root of the variance for each pixel** for gridded outputs, and \n",
    "* the **square root of the mean of the variance across all pixels** for series outputs\n",
    "because calculating mean and standard deviation over a 3-dim stack (x,y,time; to get single monthly value for series output) was too computationally expensive. \n",
    "\n",
    "Use `xarray.groupby()` function to calculate means and standard deviations by month:"
   ]
  },
  {
   "cell_type": "code",
   "execution_count": 13,
   "metadata": {},
   "outputs": [],
   "source": [
    "numpy.seterr(divide='ignore', invalid='ignore')           # tell numpy to ignore nan warnings\n",
    "\n",
    "### open the dataset; 'mask_and_scale'=True this time (sets fill value to nan, as numpy has no nan for ints)\n",
    "nc = xarray.open_dataset( _file, mask_and_scale = True, chunks = { 'time':5, 'ydim': 1000, 'xdim': 1000 } )\n",
    "\n",
    "### make some modifications \n",
    "drylands = nc['drylands']                                 # save the drylands layer for later, \n",
    "nc = nc.drop('drylands')                                  #     and remove it so not duplicated\n",
    "nc = nc.sel(time=slice(\"2000-01-01\",\"2003-01-01\"))        # select first two years for testing\n",
    "nc[_datavar].attrs.update( dict(                          # replace valid range attributes for \"Lai_500m\"\n",
    "    valid_min=_valid_min , valid_max=_valid_max ) )       #     because values are scaled now \n",
    "\n",
    "### store dates and statistics for each month in nested dictionaries\n",
    "data = dict( dates=[] ,                                   # pandas datetimes (1st of each month)\n",
    "             grid=dict( mean=[],variance=[],stdev=[] ) ,  # drylands grid mean, variance, and stdev\n",
    "             series=dict( mean=[],stdev=[] ) )            # time series mean and stdev \n",
    "\n",
    "### loop over years, then months (nested) and append outputs to 'data' dictionary\n",
    "for year,dataset in nc.groupby('time.year', squeeze=False):                    # loop over years\n",
    "    for month,subdataset in dataset.groupby('time.month', squeeze=False):      # loop over months\n",
    "\n",
    "        data['dates'].append(pandas.to_datetime(str(year)+\"-0\"+str(month)+\"-\"+\"01\")) # append date\n",
    "\n",
    "        ### grid statistics\n",
    "        _m = subdataset[_datavar].mean('time', keep_attrs = True, skipna=True) # calc mean by pixel\n",
    "        data['grid']['mean'].append( _m )                                      # append mean\n",
    "        \n",
    "        _v = subdataset[_datavar].var('time', keep_attrs = True, skipna=True)  # calc variance by pixel\n",
    "        data['grid']['variance'].append( _v )                                  # append variance\n",
    "        data['grid']['stdev'].append( xarray.ufuncs.sqrt(_v) )                 # append stdev\n",
    " \n",
    "        ### series statistics\n",
    "        data['series']['mean'].append( _m.mean(['xdim','ydim'],keep_attrs = True) ) # append series mean\n",
    "        data['series']['stdev'].append( xarray.ufuncs.sqrt(_v.mean(['ydim','xdim'],skipna = True)) ) # append series stdev"
   ]
  },
  {
   "cell_type": "markdown",
   "metadata": {},
   "source": [
    "**Organize results:**      \n",
    "Concatenate the outputs for each type and variable, then merge into two datasets. Rename the record dimension to `time` and add the CRS and Drylands mask variables to the gridded output dataset:"
   ]
  },
  {
   "cell_type": "code",
   "execution_count": 14,
   "metadata": {},
   "outputs": [],
   "source": [
    "### concatenate monthly grid outputs\n",
    "grid = xarray.merge([ \n",
    "    xarray.concat(data['grid']['mean'], dim=data['dates']).rename(_mean),\n",
    "    xarray.concat(data['grid']['variance'], dim=data['dates']).rename(_variance),\n",
    "    xarray.concat(data['grid']['stdev'], dim=data['dates']).rename(_stdev)\n",
    "])\n",
    "grid = grid.rename({'concat_dim':'time'})       # rename time dimension\n",
    "grid['crs'] = nc.crs                            # add crs variable\n",
    "grid['drylands'] = drylands                     # add drylands mask back to dataset\n",
    "\n",
    "### concatenate monthly series outputs\n",
    "series = xarray.merge([ \n",
    "    xarray.concat(data['series']['mean'], dim=data['dates']).rename(_mean),\n",
    "    xarray.concat(data['series']['stdev'], dim=data['dates']).rename(_stdev)\n",
    "])\n",
    "series = series.rename(dict(concat_dim='time')) # rename time dimension"
   ]
  },
  {
   "cell_type": "markdown",
   "metadata": {},
   "source": [
    "**Save the outputs to one netCDF file:**"
   ]
  },
  {
   "cell_type": "code",
   "execution_count": 15,
   "metadata": {},
   "outputs": [
    {
     "name": "stdout",
     "output_type": "stream",
     "text": [
      "[########################################] | 100% Completed |  1min 57.2s\n",
      "[########################################] | 100% Completed |  1min  3.8s\n"
     ]
    }
   ],
   "source": [
    "xarray.Dataset().to_netcdf(output, unlimited_dims=(\"time\"), compute=True) # make container dataset\n",
    "\n",
    "### make write job for each (grid,series) and write to their own groups in the container dataset.\n",
    "writeg = grid.to_netcdf(output, mode=\"a\", group=\"/grid/\", unlimited_dims=(\"time\"), compute=False)\n",
    "writes = series.to_netcdf(output, mode=\"a\", group=\"/series/\", unlimited_dims=(\"time\"), compute=False)\n",
    "\n",
    "with ProgressBar(): \n",
    "    for j in [writeg,writes]:\n",
    "        j.compute()"
   ]
  },
  {
   "cell_type": "markdown",
   "metadata": {},
   "source": [
    "--------------------------\n",
    "# Write processing scripts\n",
    "\n",
    "\n",
    "The two code blocks below write python scripts for each dataset in `datasets.json`. Run from the base directory of the repo or minor adjustments may be required.\n",
    "\n",
    "```\n",
    "<dataset> ==  [ 'mod15a2h' 'myd15a2h' 'mod11a1d' 'mod11a1n' 'myd11a1d' 'myd11a1n' ]`\n",
    "<script> ==  [ 'timeseries' 'stats' ] \n",
    "```\n",
    "\n",
    "* **if run in a virtualenv:**\n",
    "\n",
    "```\n",
    "$ python proc/<dataset>_<script>.py\n",
    "```\n",
    "\n",
    "* **else:**\n",
    "\n",
    "```\n",
    "$ chmod +x proc/<dataset>_<script>.py\n",
    "$ proc/<dataset>_<script>.py\n",
    "```\n",
    "\n",
    "### Prepare datasets\n",
    "Trim datasets to processing extent, apply drylands mask, filter out poor quality data    "
   ]
  },
  {
   "cell_type": "code",
   "execution_count": 16,
   "metadata": {},
   "outputs": [],
   "source": [
    "datasets = json.load( open( \"datasets.json\" , \"r\" ) )\n",
    "python_path = \"/usr/bin/python\"\n",
    "\n",
    "\n",
    "for dataset,details in datasets.items():\n",
    "    details['dataset'] = dataset\n",
    "    details['pypath'] = python_path\n",
    "    with open(\"proc/\"+dataset+\"_timeseries.py\",\"w\") as f:\n",
    "        f.write(\n",
    "\"\"\"#!{pypath}\n",
    "\n",
    "import os\n",
    "import xarray\n",
    "from osgeo import gdal, ogr, osr\n",
    "from dask.diagnostics import ProgressBar\n",
    "import numpy\n",
    "import pandas\n",
    "import json\n",
    "from collections import OrderedDict\n",
    "\n",
    "if not os.path.exists('outputs'): os.makedirs('outputs')      # make outputs dir if none exists\n",
    "\n",
    "_dataset = '{dataset}'\n",
    "_f = '{file}'\n",
    "_output = '{output}'\n",
    "_lookup = '{lookup}'\n",
    "_var = '{var}'\n",
    "_datavar = '{datavar}'\n",
    "_qcvar = '{qcvar}'\n",
    "_fillvalue = {fillvalue}\n",
    "_discard_vars = {discard_vars}\n",
    "\n",
    "shapefile = \"data/ai/ai-drylands-sinu.shp\"    # reprojected aridity index shapefile\n",
    "qc = json.load( open( \"qc.json\" , \"r\" ) )\n",
    "\n",
    "nc = xarray.open_dataset(   # open the netCDF dataset in parallel i/o mode\n",
    "    _f , \n",
    "    mask_and_scale = False ,                                   # no, changes to floats\n",
    "    drop_variables = _discard_vars,                            # discard these\n",
    "    chunks =  dict(time=5, ydim= 1000, xdim= 1000)             # ~5m\n",
    ")\n",
    "\n",
    "print(\"---\\tMaking drylands mask . . . \")\n",
    "\n",
    "shp = ogr.Open(shapefile)                     # open shapefile\n",
    "lyr = shp.GetLayer()                          # get first (and only) layer\n",
    "srs = lyr.GetSpatialRef()                     # get srs\n",
    "\n",
    "ncols,nrows = nc.xdim.size,nc.ydim.size    # get number of cols and rows\n",
    "ymax,ymin = max(nc.ydim),min(nc.ydim)      # get max and min for y\n",
    "xmax,xmin = max(nc.xdim),min(nc.xdim)      # get max and min for x\n",
    "yres=(ymax-ymin)/float(nrows)              # get y res\n",
    "xres=(xmax-xmin)/float(ncols)              # get x res\n",
    "geotransform=(xmin,xres,0,ymax,0, -yres)   # define geotransformation\n",
    "\n",
    "dst_ds = gdal.GetDriverByName('MEM').Create('', ncols, nrows, 1 ,gdal.GDT_Byte)   # open raster obj in memory\n",
    "dst_rb = dst_ds.GetRasterBand(1)\n",
    "dst_rb.Fill(0)                          # init with zeros\n",
    "dst_rb.SetNoDataValue(0)                # set nodata value\n",
    "dst_ds.SetGeoTransform(geotransform)    # set geotransform\n",
    "\n",
    "err = gdal.RasterizeLayer(dst_ds, [1], lyr, burn_values=[1])   # rasterize shp. drylands == 1 ; not drylands == 0\n",
    "dst_ds.FlushCache()\n",
    "\n",
    "m = dst_ds.GetRasterBand(1).ReadAsArray()\n",
    "\n",
    "nzero_ix = numpy.argwhere(m)                    # get index of every non-zero point\n",
    "tl = nzero_ix.min(axis=0).tolist()              # get min of indices for both dims\n",
    "br = nzero_ix.max(axis=0).tolist()              # get max of indices for both dims\n",
    "ext = [v for v in [tl[0],br[0],tl[1],br[1]]]    # _ymax _ymin _xmax _xmin\n",
    "\n",
    "print(\"---\\tMasking dataset . . . \")\n",
    "\n",
    "# add the mask to the input dataset as a new variable called 'drylands'\n",
    "nc['drylands'] = xarray.DataArray( m , coords = [ nc.ydim , nc.xdim ] , dims = [ 'ydim' , 'xdim' ] )\n",
    "nc.drylands.attrs = dict(                         # add some attributes to describe the new mask variable\n",
    "    grid_mapping='crs',                           # \"grid_mapping\" (CF standard) instruct software how to grid data\n",
    "    flag_values=(0,1),                            # \"flag_values\" sometimes interpretable by software\n",
    "    flag_meanings='non_drylands drylands',        # same is true for \"flag_meanings\" \n",
    "    _FillValue=0                                  # and most software hide \"_FillValues\" by default\n",
    ")\n",
    "nc = nc[ dict(ydim=slice(ext[0],ext[1]), xdim=slice(ext[2],ext[3])) ] # trim dataset to mask extent\n",
    "nc[_datavar] = nc[_datavar].where( nc.drylands == 1 , _fillvalue ) # apply mask\n",
    "\n",
    "print(\"---\\tQuality filtering . . . \")\n",
    "\n",
    "lookup = pandas.read_csv(_lookup)\n",
    "criteria = qc[_var]\n",
    "qcv = lookup.loc[(\n",
    "    ( lookup[ list(criteria.keys())[0] ].isin( list(criteria.values())[0] ) & \n",
    "      lookup[ list(criteria.keys())[1] ].isin( list(criteria.values())[1] ))\n",
    "), \"Value\"].tolist()\n",
    "nc[_datavar] = nc[_datavar].where( nc[_qcvar].isin(qcv) , _fillvalue ) # apply filter\n",
    "nc = nc.drop(_qcvar)\n",
    "\n",
    "print(\"---\\tWriting output time series:  . . . \")\n",
    "\n",
    "from dask.diagnostics import ProgressBar # load dask's progress bar\n",
    "\n",
    "# initialize output job\n",
    "timeseries = nc.to_netcdf( _output , unlimited_dims=\"time\" , compute=False )\n",
    "\n",
    "# do queued calculations and save\n",
    "with ProgressBar(): \n",
    "    timeseries.compute()\n",
    "\n",
    "\"\"\".format(**details))"
   ]
  },
  {
   "cell_type": "markdown",
   "metadata": {},
   "source": [
    "### Calculate stats\n",
    "Calculate mean and standard deviation over time and space"
   ]
  },
  {
   "cell_type": "code",
   "execution_count": 17,
   "metadata": {},
   "outputs": [],
   "source": [
    "datasets = json.load( open( \"datasets.json\" , \"r\" ) )\n",
    "python_path = \"/usr/bin/python\"\n",
    "\n",
    "for dataset,details in datasets.items():\n",
    "    details['pypath'] = python_path\n",
    "    details['dataset'] = dataset\n",
    "    with open(\"proc/\"+dataset+\"_stats.py\",\"w\") as f:\n",
    "        f.write(\n",
    "\"\"\"#!{pypath}\n",
    "\n",
    "import os,json,math                        # general env use and reading json configs\n",
    "import xarray,pandas,numpy                 # <-- these do 99.9% of processing\n",
    "from osgeo import gdal, ogr, osr           # to grid shapefile mask and transform netcdf crs for plots\n",
    "\n",
    "from collections import OrderedDict        # text-escaped dictionarys in output scripts\n",
    "from dask.diagnostics import ProgressBar   # progress bar for long saves\n",
    "\n",
    "numpy.seterr(divide='ignore', invalid='ignore')\n",
    "\n",
    "_dataset = '{dataset}'\n",
    "_file = '{output}'\n",
    "_datavar = '{datavar}'\n",
    "_valid_min = '{valid_min}'\n",
    "_valid_max = '{valid_max}'\n",
    "\n",
    "_mean = _datavar+\"_mean\"\n",
    "_variance = _datavar+\"_variance\"\n",
    "_stdev = _datavar+\"_stdev\"\n",
    "\n",
    "nc = xarray.open_dataset(\n",
    "    _file, \n",
    "    mask_and_scale = True,    \n",
    "    chunks = dict( time=5, ydim= 1000, xdim= 1000 ) \n",
    ")\n",
    "drylands = nc['drylands']\n",
    "nc = nc.drop('drylands')\n",
    "\n",
    "################################################## TESTING\n",
    "#nc = nc.sel(time=slice(\"2000-01-01\",\"2003-01-01\"))\n",
    "################################################## TESTING\n",
    "\n",
    "nc[_datavar].attrs.update(dict(valid_min=_valid_min,valid_max=_valid_max))\n",
    "\n",
    "data = dict( dates=[] , grid=dict( mean=[],variance=[],stdev=[] ) , series=dict( mean=[],stdev=[] ) )\n",
    "for year,dataset in nc.groupby('time.year', squeeze=False):\n",
    "    for month,subdataset in dataset.groupby('time.month', squeeze=False):\n",
    "\n",
    "        data['dates'].append(pandas.to_datetime(str(year)+\"-0\"+str(month)+\"-\"+\"01\")) \n",
    "\n",
    "        _m = subdataset[_datavar].mean('time', keep_attrs = True, skipna=True)\n",
    "        data['grid']['mean'].append( _m )\n",
    "        _v = subdataset[_datavar].var('time', keep_attrs = True, skipna=True)\n",
    "        data['grid']['variance'].append( _v )\n",
    "        data['grid']['stdev'].append( xarray.ufuncs.sqrt(_v) )\n",
    "\n",
    "        data['series']['mean'].append( _m.mean(['xdim','ydim'],keep_attrs = True) )\n",
    "        data['series']['stdev'].append( xarray.ufuncs.sqrt(_v.mean(['ydim','xdim'],skipna = True)) )\n",
    "\n",
    "grid = xarray.merge([\n",
    "    xarray.concat(data['grid']['mean'], dim=data['dates']).rename(_mean),\n",
    "    xarray.concat(data['grid']['variance'], dim=data['dates']).rename(_variance),\n",
    "    xarray.concat(data['grid']['stdev'], dim=data['dates']).rename(_stdev)\n",
    "])\n",
    "grid = grid.rename(dict(concat_dim='time'))\n",
    "grid['crs'] = nc.crs \n",
    "grid['drylands'] = drylands\n",
    "\n",
    "series = xarray.merge([\n",
    "    xarray.concat(data['series']['mean'], dim=data['dates']).rename(_mean),\n",
    "    xarray.concat(data['series']['stdev'], dim=data['dates']).rename(_stdev)\n",
    "])\n",
    "series = series.rename(dict(concat_dim='time'))#,xdim='x',ydim='y'))\n",
    "\n",
    "outf = \"outputs/\"+_dataset+\"_stats.nc\"\n",
    "xarray.Dataset().to_netcdf(outf, unlimited_dims=(\"time\"), compute=True)\n",
    "writeg = grid.to_netcdf(outf, mode=\"a\", group=\"/grid/\", unlimited_dims=(\"time\"), compute=False)\n",
    "writes = series.to_netcdf(outf, mode=\"a\", group=\"/series/\", unlimited_dims=(\"time\"), compute=False)\n",
    "\n",
    "with ProgressBar(): \n",
    "    for j in [writer1,writer2,writer3]:\n",
    "        j.compute()\n",
    "\n",
    "\"\"\".format(**details))"
   ]
  }
 ],
 "metadata": {
  "kernelspec": {
   "display_name": "Python 3",
   "language": "python",
   "name": "python3"
  },
  "language_info": {
   "codemirror_mode": {
    "name": "ipython",
    "version": 3
   },
   "file_extension": ".py",
   "mimetype": "text/x-python",
   "name": "python",
   "nbconvert_exporter": "python",
   "pygments_lexer": "ipython3",
   "version": "3.6.6"
  }
 },
 "nbformat": 4,
 "nbformat_minor": 2
}
